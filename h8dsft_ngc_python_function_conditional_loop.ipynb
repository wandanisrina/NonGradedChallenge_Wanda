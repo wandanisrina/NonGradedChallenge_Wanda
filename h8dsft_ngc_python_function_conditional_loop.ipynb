{
 "cells": [
  {
   "cell_type": "markdown",
   "metadata": {},
   "source": [
    "# NGC 2"
   ]
  },
  {
   "cell_type": "markdown",
   "metadata": {},
   "source": [
    "TASK 1\n",
    "\n",
    "Task #1 - Number of WordCreate a function that count the number of word in a sentence.\n",
    "Instruction:\n",
    "\n",
    "1.Create function called `number_of_word`.\n",
    "\n",
    "2.This function takes 1 input, `sentence`.\n",
    "\n",
    "3.Inside this function, you can utilize `.split()` method to split the sentence into list of word(s).\n",
    "\n",
    "4.Also, `len()` function to count the element inside a list.5.Return the number of word from the sentence.\n",
    "\n",
    "Example:\n",
    "-Input: number_of_word(sentence = ’Hello World!’)\n",
    "-Output: 2\n",
    "\n",
    "-Input: number_of_word(sentence = ’Once Upon a Time in a faraway land’)\n",
    "-Output: 8\n"
   ]
  },
  {
   "cell_type": "code",
   "execution_count": 7,
   "metadata": {},
   "outputs": [
    {
     "name": "stdout",
     "output_type": "stream",
     "text": [
      "2\n",
      "8\n"
     ]
    }
   ],
   "source": [
    "sentenceA = \"Hello World!\"\n",
    "sentenceB = \"Once Upon a Time in a faraway land\"\n",
    "\n",
    "def fun (words):\n",
    "    kata = words.split()\n",
    "    jumlah_kata = len(kata)\n",
    "    return jumlah_kata\n",
    "\n",
    "print(fun(sentenceA))\n",
    "print(fun(sentenceB))"
   ]
  },
  {
   "cell_type": "markdown",
   "metadata": {},
   "source": [
    "TASK 2\n",
    "\n",
    "Task #2 - Find MultipleCreate a function that will get list of number(s) from a certain range that multiples of given number.Instruction:\n",
    "\n",
    "1.Create function called `find_multiples`.\n",
    "\n",
    "2.This function takes 3 input: `start_range`, `end_range`, and `multiple`.\n",
    "\n",
    "3.From every number within the given range, check if that number is the mutliples of `multiple`.\n",
    "\n",
    "4.Return list of the possible multiple number(s).\n",
    "\n",
    "Example:\n",
    "-Input: find_multiple(start_range= 1, end_range= 20, multiple= 5)\n",
    "-Output: [5, 10, 15, 20]\n",
    "\n",
    "-Input: find_multiple(start_range= 1, end_range= 50, multiple= 10)\n",
    "-Output: [10, 20, 30, 40, 50]5\n"
   ]
  },
  {
   "cell_type": "code",
   "execution_count": 15,
   "metadata": {},
   "outputs": [
    {
     "name": "stdout",
     "output_type": "stream",
     "text": [
      "1 20 5\n",
      "0\n",
      "[5, 10, 15, 20]\n",
      "1 50 10\n",
      "0\n",
      "[10, 20, 30, 40, 50]\n"
     ]
    }
   ],
   "source": [
    "def fun (start, end, multiple):\n",
    "    angka = list(range(start - 1, end + 1, multiple))\n",
    "    print (start, end, multiple)\n",
    "    if angka and angka[0] == 0:\n",
    "        print (angka[0])\n",
    "        angka.remove (angka[0])\n",
    "    print (angka)\n",
    "    return angka\n",
    "\n",
    "ListNumberA = fun (1, 20, 5)\n",
    "ListNumberB = fun (1, 50, 10)\n"
   ]
  },
  {
   "cell_type": "markdown",
   "metadata": {},
   "source": [
    "Task #3 - \n",
    "\n",
    "Grade ConverterCreate a function that will convert student’s grade to GPA.Instruction:\n",
    "\n",
    "1.Create function called `Grade_Converter`.\n",
    "\n",
    "2.This function takes input: `convert_to` and n-paired of student(s) name with its respective score.\n",
    "\n",
    "3.Input argument for `convert_to` is either `letter_grade` or `gpa`.\n",
    "\n",
    "4.You can utilize **kwargs input argument to generate n-length paired of student(s) name with its respective score (Dictionary).\n",
    "\n",
    "5.This function will return dictionary of student’s name along with converted Letter Grade or GPA, depending on user input in `convert_to` parameter"
   ]
  },
  {
   "cell_type": "code",
   "execution_count": 24,
   "metadata": {},
   "outputs": [
    {
     "name": "stdout",
     "output_type": "stream",
     "text": [
      "dict_items([('Adam', 62), ('Faiz', 91)])\n",
      "dict_items([('Albert', 90), ('Dwi', 82), ('Syahdan', 58), ('Veronica', 84)])\n",
      "{'Adam': 2.5, 'Faiz': 4.0}\n",
      "{'Albert': 'A', 'Dwi': 'B', 'Syahdan': 'D', 'Veronica': 'B'}\n"
     ]
    }
   ],
   "source": [
    "def Grade_converter (**score):\n",
    "    print (score.items())\n",
    "    convert_to_gpa = {}\n",
    "    convert_to_letter = {}\n",
    "    for name, nilai in score.items():\n",
    "        if nilai >= 85:\n",
    "            letter_grade = \"A\"\n",
    "            gpa = 4.0\n",
    "        elif nilai >= 70:\n",
    "            letter_grade = \"B\" \n",
    "            gpa = 3.0\n",
    "        elif nilai >= 60:\n",
    "            letter_grade = \"C\"\n",
    "            gpa = 2.5\n",
    "        elif nilai >= 50:\n",
    "            letter_grade = \"D\" \n",
    "            gpa = 2.0\n",
    "        elif nilai >= 40:\n",
    "            letter_grade = \"E\" \n",
    "            gpa = 1.5\n",
    "        else :\n",
    "            letter_grade = \"F\"\n",
    "            gpa = 1.0\n",
    "    \n",
    "        convert_to_gpa [name] = gpa\n",
    "        convert_to_letter [name] = letter_grade\n",
    "    \n",
    "    return convert_to_gpa, convert_to_letter\n",
    "\n",
    "    \n",
    "convert_to_gpa = Grade_converter (Adam=62, Faiz=91) [0]\n",
    "convert_to_letter = Grade_converter (Albert=90, Dwi=82, Syahdan=58, Veronica=84) [1]\n",
    "\n",
    "print (convert_to_gpa)\n",
    "print (convert_to_letter)"
   ]
  },
  {
   "cell_type": "markdown",
   "metadata": {},
   "source": [
    "Task #4 - Fibonacci Sequence\n",
    "\n",
    "Fibonacci sequence is a sequence in which each number is the sum of the two preceding ones. \n",
    "\n",
    "Suppose we have fibonacci sequence started with:0, 1, 1, 2, 3, 5, ...\n",
    "\n",
    "The next number should be 8 or sum of the two precedings, 3 and 5:0, 1, 1, 2, 3, 5, 8, ...\n",
    "\n",
    "Then the next number should be 13 or sum of the two precedings, 5 and 8:0, 1, 1, 2, 3, 5, 8, 13,  ...\n",
    "\n",
    "And so on\n"
   ]
  },
  {
   "cell_type": "code",
   "execution_count": 45,
   "metadata": {},
   "outputs": [
    {
     "name": "stdout",
     "output_type": "stream",
     "text": [
      "0\n",
      "3\n",
      "55\n"
     ]
    }
   ],
   "source": [
    "def fun (n):\n",
    "    if n <= 1:\n",
    "        return n\n",
    "    else:\n",
    "        return fun (n - 1) + fun (n - 2)\n",
    "\n",
    "print (fun (0))\n",
    "print (fun (4))\n",
    "print (fun (10))\n"
   ]
  }
 ],
 "metadata": {
  "kernelspec": {
   "display_name": "base",
   "language": "python",
   "name": "python3"
  },
  "language_info": {
   "codemirror_mode": {
    "name": "ipython",
    "version": 3
   },
   "file_extension": ".py",
   "mimetype": "text/x-python",
   "name": "python",
   "nbconvert_exporter": "python",
   "pygments_lexer": "ipython3",
   "version": "3.9.21"
  }
 },
 "nbformat": 4,
 "nbformat_minor": 2
}
