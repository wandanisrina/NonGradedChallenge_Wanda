{
 "cells": [
  {
   "cell_type": "code",
   "execution_count": 15,
   "id": "4821a6ca",
   "metadata": {},
   "outputs": [],
   "source": [
    "import psycopg2\n",
    "import pandas as pd\n",
    "\n",
    "# Replace these parameters with your actual database credentials\n",
    "db_user = \"postgres\"\n",
    "db_password = \"postgres\" #Use your own password\n",
    "db_host = \"localhost\"  # Usually \"localhost\" if running locally\n",
    "db_port = \"5432\"  # Default is 5432\n",
    "\n",
    "connection = psycopg2.connect(\n",
    "    user=db_user,\n",
    "    password=db_password,\n",
    "    host=db_host,\n",
    "    port=db_port,\n",
    "    database = \"db_NGC5\"\n",
    ")"
   ]
  },
  {
   "cell_type": "code",
   "execution_count": 22,
   "id": "3cb9957c",
   "metadata": {},
   "outputs": [
    {
     "name": "stdout",
     "output_type": "stream",
     "text": [
      "(1, 'John Doe', 'New York')\n",
      "(2, 'Jane Smith', 'Los Angeles')\n",
      "(3, 'David Johnson', 'Chicago')\n"
     ]
    }
   ],
   "source": [
    "query = \"select * from Customers\"\n",
    "\n",
    "cursor = connection.cursor () #supaya bisa execute harus bikin kursor di py\n",
    "cursor.execute (query)\n",
    "\n",
    " # menampilkan hasil select\n",
    "rows = cursor.fetchall() #hasilnya berupa list of tuple\n",
    "for row in rows:\n",
    "    print(row) \n",
    "\n",
    "\n",
    "cursor. close ()"
   ]
  },
  {
   "cell_type": "code",
   "execution_count": 23,
   "id": "0fab1b98",
   "metadata": {},
   "outputs": [
    {
     "name": "stdout",
     "output_type": "stream",
     "text": [
      " order_id  customer_id order_date  total_amount\n",
      "        1            1 2022-01-10         100.0\n",
      "        2            1 2022-02-05         150.0\n",
      "        3            2 2022-03-20         200.0\n",
      "        4            3 2022-04-25          50.0\n"
     ]
    },
    {
     "name": "stderr",
     "output_type": "stream",
     "text": [
      "C:\\Users\\WANDA\\AppData\\Local\\Temp\\ipykernel_6328\\3820010445.py:7: UserWarning: pandas only supports SQLAlchemy connectable (engine/connection) or database string URI or sqlite3 DBAPI2 connection. Other DBAPI2 objects are not tested. Please consider using SQLAlchemy.\n",
      "  df = pd.read_sql(query, connection) #menampilkan dalam hasil tabel\n"
     ]
    }
   ],
   "source": [
    "query = \"select * from Orders\"\n",
    "\n",
    "cursor = connection.cursor () #supaya bisa execute harus bikin kursor di py\n",
    "cursor.execute (query)\n",
    "\n",
    "  # menampilkan hasil select\n",
    "df = pd.read_sql(query, connection) #menampilkan dalam hasil tabel\n",
    "\n",
    "print(df.to_string(index=False)) \n",
    "\n",
    "\n",
    "cursor. close ()"
   ]
  },
  {
   "cell_type": "code",
   "execution_count": 20,
   "id": "02c5274a",
   "metadata": {},
   "outputs": [
    {
     "name": "stdout",
     "output_type": "stream",
     "text": [
      "customer_name  total_orders\n",
      "     John Doe             2\n",
      "   Jane Smith             1\n",
      "David Johnson             1\n"
     ]
    },
    {
     "name": "stderr",
     "output_type": "stream",
     "text": [
      "C:\\Users\\WANDA\\AppData\\Local\\Temp\\ipykernel_6328\\3138448165.py:8: UserWarning: pandas only supports SQLAlchemy connectable (engine/connection) or database string URI or sqlite3 DBAPI2 connection. Other DBAPI2 objects are not tested. Please consider using SQLAlchemy.\n",
      "  df = pd.read_sql(query, connection) #menampilkan dalam hasil tabel\n"
     ]
    }
   ],
   "source": [
    "query = \"select customer_name, count (order_id) as total_orders from Orders join Customers on Customers.customer_id = Orders.customer_id group by customer_name order by 1 desc\"\n",
    "\n",
    "cursor = connection.cursor () #supaya bisa execute harus bikin kursor di py\n",
    "\n",
    "cursor.execute (query)\n",
    "\n",
    "  # menampilkan hasil select\n",
    "df = pd.read_sql(query, connection) #menampilkan dalam hasil tabel\n",
    "\n",
    "print(df.to_string(index=False))\n",
    "\n",
    "\n",
    "cursor. close ()"
   ]
  }
 ],
 "metadata": {
  "kernelspec": {
   "display_name": "base",
   "language": "python",
   "name": "python3"
  },
  "language_info": {
   "codemirror_mode": {
    "name": "ipython",
    "version": 3
   },
   "file_extension": ".py",
   "mimetype": "text/x-python",
   "name": "python",
   "nbconvert_exporter": "python",
   "pygments_lexer": "ipython3",
   "version": "3.9.21"
  }
 },
 "nbformat": 4,
 "nbformat_minor": 5
}
